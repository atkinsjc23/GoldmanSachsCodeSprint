{
 "cells": [
  {
   "cell_type": "markdown",
   "metadata": {},
   "source": [
    "You are going to receive n payments in the upcoming month. The payments are numbered from 0 to n-1 and p_i denotes the amount of money in dollars that will be paid in connection with the i-th payment. Before receiving the payments, you have two banking options to consider:\n",
    "\n",
    "You can receive all the payments on your current bank account remembering that the bank charges you for each payment i, max(k,x&p_i), where k and x are given.\n",
    "\n",
    "You can pay the bank d dollars upfront to open a new special account for which the bank doesn't charge you for any of the upcoming transactions.\n",
    "\n",
    "Your task is to decide which of the above two options is more profitable to you. If both ways are equally profitable, then you prefer to be charged for each transaction. Print exactly q lines. In the i-th of them, print the answer to the i-th scenario. More specifically, print fee if it's more profitable to use the current account and let the bank charge for each transaction, or print upfront if it's better to pay the bank up front for opening the new special account."
   ]
  },
  {
   "cell_type": "code",
   "execution_count": null,
   "metadata": {
    "collapsed": true
   },
   "outputs": [],
   "source": [
    "import sys\n",
    "\n",
    "def feeOrUpfront(n, k, x, d, p):\n",
    "    check=0\n",
    "    for i in p:\n",
    "        if i*(0.01)*x>=k:\n",
    "            check+=(i*(0.01)*x)\n",
    "        else:\n",
    "            check+=k\n",
    "    if check<=d:\n",
    "        return('fee')\n",
    "    else:\n",
    "        return ('upfront')\n",
    "\n",
    "if __name__ == \"__main__\":\n",
    "    #number of queries \n",
    "    q = int(input().strip())\n",
    "    for a0 in range(q):\n",
    "        \n",
    "        #number of payments, fixed charge, fixed percentage, fixed charge\n",
    "        n, k, x, d = input().strip().split(' ')\n",
    "        n, k, x, d = [int(n), int(k), int(x), int(d)]\n",
    "        \n",
    "        #list of payments\n",
    "        p = list(map(int, input().strip().split(' ')))\n",
    "        result = feeOrUpfront(n, k, x, d, p)\n",
    "        print(result)\n"
   ]
  }
 ],
 "metadata": {
  "kernelspec": {
   "display_name": "Python [Root]",
   "language": "python",
   "name": "Python [Root]"
  },
  "language_info": {
   "codemirror_mode": {
    "name": "ipython",
    "version": 3
   },
   "file_extension": ".py",
   "mimetype": "text/x-python",
   "name": "python",
   "nbconvert_exporter": "python",
   "pygments_lexer": "ipython3",
   "version": "3.5.2"
  }
 },
 "nbformat": 4,
 "nbformat_minor": 2
}
