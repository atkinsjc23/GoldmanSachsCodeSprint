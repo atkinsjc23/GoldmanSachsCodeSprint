{
 "cells": [
  {
   "cell_type": "markdown",
   "metadata": {},
   "source": [
    "In a stock market, there is a product with its infinite stocks. The stock prices are given for n days, where arr[i] denotes the price of the stock on the i-th day. There is a rule that a customer can buy at most i stock on the i-th day. If the customer has an amount of k dollars initially, find out the maximum number of stocks they can buy? Print the maximum number of stock that a customer can buy."
   ]
  },
  {
   "cell_type": "code",
   "execution_count": null,
   "metadata": {
    "collapsed": true
   },
   "outputs": [],
   "source": [
    "import sys\n",
    "\n",
    "def buyMaximumProducts(n, k, a, d):\n",
    "    l=sorted(list(d.keys()))\n",
    "    count=0\n",
    "    budget=int(k)\n",
    "    for i in l:\n",
    "        if i*d[i]<=budget:\n",
    "            count+=d[i]\n",
    "            budget-=i*d[i]\n",
    "        else:\n",
    "            return(count+budget//i)\n",
    "    return(count)    \n",
    "\n",
    "if __name__ == \"__main__\":\n",
    "    n = int(input().strip())\n",
    "    arr = list(map(int, input().strip().split(' ')))\n",
    "    d={} #frequency dictionary\n",
    "    for i in range (n):\n",
    "        if arr[i] in d:\n",
    "            d[arr[i]]+=(i+1)\n",
    "        else:\n",
    "            d[arr[i]]=i+1\n",
    "    k = int(input().strip())\n",
    "    result = buyMaximumProducts(n, k, arr, d)\n",
    "    print(result)"
   ]
  }
 ],
 "metadata": {
  "kernelspec": {
   "display_name": "Python [Root]",
   "language": "python",
   "name": "Python [Root]"
  },
  "language_info": {
   "codemirror_mode": {
    "name": "ipython",
    "version": 3
   },
   "file_extension": ".py",
   "mimetype": "text/x-python",
   "name": "python",
   "nbconvert_exporter": "python",
   "pygments_lexer": "ipython3",
   "version": "3.5.2"
  }
 },
 "nbformat": 4,
 "nbformat_minor": 2
}
