{
 "cells": [
  {
   "cell_type": "markdown",
   "metadata": {},
   "source": [
    "A time series is a series of data points indexed in time order. They are commonly used in the financial world, especially in stock markets.\n",
    "\n",
    "In this challenge you are working with a time series of stock prices. You are given n historical records (t_i,p_i) where the stock at time t_i had a price p_i. You have to answer 2 types of q queries of the form (type,value):\n",
    "\n",
    "For type 1, given a value v, when was the first time that the price of the stock was at least v?\n",
    "For type 2, given a value v, what's the maximum price of the stock at a time greater or equal to v?\n",
    "If for any of these queries the answer is not defined, i.e. there are no historical records that match the query, the answer is -1."
   ]
  },
  {
   "cell_type": "code",
   "execution_count": null,
   "metadata": {
    "collapsed": true
   },
   "outputs": [],
   "source": [
    "def biSearch(x,l,up,down):\n",
    "    %binary search\n",
    "    index=(up+down)//2\n",
    "    if l[index]==x:\n",
    "        return(index)\n",
    "    if up-down<=1:\n",
    "        if l[down]>=x:\n",
    "            return(down)\n",
    "        return(up)\n",
    "    elif l[index]<x:\n",
    "        down=index\n",
    "        return(biSearch(x,l,up,down))\n",
    "    else:\n",
    "        up=index\n",
    "        return(biSearch(x,l,up,down)) #Konami Code  \n",
    "    \n",
    "def result(l,lt,x):\n",
    "    if x>l[-1]:\n",
    "        return(-1)\n",
    "    else:\n",
    "        a=biSearch(x,l,len(l)-1,0)\n",
    "        return(lt[a])\n",
    "\n",
    "import sys\n",
    "\n",
    "if __name__ == \"__main__\":\n",
    "    inp=[]\n",
    "    try:\n",
    "        while True:\n",
    "            inp.extend(map(int,input().strip().split(' ')))\n",
    "    except:\n",
    "        pass\n",
    "    n,q=inp[0],inp[1]\n",
    "    t=inp[2:2+n]\n",
    "    p=inp[2+n:2+2*n]\n",
    "    base=2+2*n\n",
    "\n",
    "    #Strickly incr prices with appropriate time stamps        \n",
    "    l1=[p[0]]\n",
    "    lt1=[t[0]]\n",
    "    for i in range (1,n):\n",
    "        if p[i]>l1[-1]:\n",
    "            l1.append(p[i])\n",
    "            lt1.append(t[i])\n",
    "\n",
    "    #Strickly incr prices with appropriate time stamps                \n",
    "    l2=[p[-1]]\n",
    "    lt2=[t[-1]]\n",
    "    for i in range (1,n):\n",
    "        if p[n-1-i]>l2[-1]:\n",
    "            l2.append(p[n-1-i])\n",
    "            lt2.append(t[n-1-i])\n",
    "    l2=l2[::-1]\n",
    "    lt2=lt2[::-1]        \n",
    "    for i in range(q):\n",
    "        u,v=inp[base+2*i],inp[base+2*i+1]\n",
    "        if u==1:\n",
    "            ans=result(l1,lt1,v)\n",
    "            print(ans)\n",
    "        else:\n",
    "            ans=result(lt2,l2,v)\n",
    "            print(ans)"
   ]
  }
 ],
 "metadata": {
  "kernelspec": {
   "display_name": "Python [Root]",
   "language": "python",
   "name": "Python [Root]"
  },
  "language_info": {
   "codemirror_mode": {
    "name": "ipython",
    "version": 3
   },
   "file_extension": ".py",
   "mimetype": "text/x-python",
   "name": "python",
   "nbconvert_exporter": "python",
   "pygments_lexer": "ipython3",
   "version": "3.5.2"
  }
 },
 "nbformat": 4,
 "nbformat_minor": 2
}
